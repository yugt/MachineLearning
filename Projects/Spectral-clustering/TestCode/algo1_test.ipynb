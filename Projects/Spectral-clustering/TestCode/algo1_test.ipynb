{
 "cells": [
  {
   "cell_type": "code",
   "execution_count": 1,
   "metadata": {},
   "outputs": [],
   "source": [
    "import numpy as np\n",
    "from sklearn.cluster import KMeans\n",
    "import matplotlib\n",
    "import matplotlib.pyplot as plt\n",
    "%matplotlib inline\n",
    "\n",
    "def SpectralGraphPartitioning(W, K):\n",
    "    W_rowsum = W.sum(axis=1)\n",
    "    Z = W / np.sqrt(np.outer(W_rowsum, W_rowsum)) # Step 1, Compute Z\n",
    "    eigen_value, eigen_vector = np.linalg.eig(Z)\n",
    "    top_index = eigen_value.argsort()[::-1][0:K]\n",
    "    out_matrix = eigen_vector[:, top_index]       # Step 2, Extract the top K eigenvectors of Z\n",
    "    out_matrix = np.real(out_matrix)\n",
    "    out_matrix = out_matrix / np.c_[np.linalg.norm(out_matrix, axis=1)] # Step 3, Renormalize each row of the resulting n * K matrix\n",
    "\n",
    "    kmeans = KMeans(n_clusters=2, random_state=0).fit(out_matrix) # Step 4, Apply K-means to the row vector\n",
    "    return kmeans.labels_"
   ]
  },
  {
   "cell_type": "code",
   "execution_count": 2,
   "metadata": {},
   "outputs": [
    {
     "data": {
      "text/plain": [
       "array([[1., 1., 0., 1., 0., 1., 0., 1., 0., 0.],\n",
       "       [1., 1., 0., 1., 0., 1., 0., 1., 0., 0.],\n",
       "       [0., 0., 1., 0., 1., 0., 1., 0., 1., 1.],\n",
       "       [1., 1., 0., 1., 0., 1., 0., 1., 0., 0.],\n",
       "       [0., 0., 1., 0., 1., 0., 1., 0., 1., 1.],\n",
       "       [1., 1., 0., 1., 0., 1., 0., 1., 0., 0.],\n",
       "       [0., 0., 1., 0., 1., 0., 1., 0., 1., 1.],\n",
       "       [1., 1., 0., 1., 0., 1., 0., 1., 0., 0.],\n",
       "       [0., 0., 1., 0., 1., 0., 1., 0., 1., 1.],\n",
       "       [0., 0., 1., 0., 1., 0., 1., 0., 1., 1.]])"
      ]
     },
     "execution_count": 2,
     "metadata": {},
     "output_type": "execute_result"
    }
   ],
   "source": [
    "N_half = 5\n",
    "bandwidth = 0.03\n",
    "horizontal_data = np.array([\n",
    "                        np.arange(-1.0, 1.0, 2/N_half) + np.random.uniform(-bandwidth, bandwidth, N_half),\n",
    "                        np.zeros(N_half) + np.random.uniform(-bandwidth, bandwidth, N_half)\n",
    "                        ]).T\n",
    "vertical_data = np.array([\n",
    "                        np.zeros(N_half) + np.random.uniform(-bandwidth, bandwidth, N_half),\n",
    "                        np.arange(-1.0, 1.0, 2/N_half) + np.random.uniform(-bandwidth, bandwidth, N_half)\n",
    "                        ]).T\n",
    "\n",
    "sample_data = np.concatenate([horizontal_data, vertical_data], axis=0)\n",
    "#np.random.shuffle(sample_data)\n",
    "n = 2 * N_half\n",
    "rnd_idx = np.random.choice(n, n,replace=False)\n",
    "sample_data = sample_data[rnd_idx, :]\n",
    "\n",
    "\n",
    "W = np.zeros([n, n])\n",
    "W[:N_half, :N_half] = 1\n",
    "W[N_half:, N_half:] = 1\n",
    "W = W[rnd_idx, :][:, rnd_idx]\n",
    "W"
   ]
  },
  {
   "cell_type": "code",
   "execution_count": 3,
   "metadata": {},
   "outputs": [
    {
     "data": {
      "text/plain": [
       "array([0, 0, 1, 0, 1, 0, 1, 0, 1, 1])"
      ]
     },
     "execution_count": 3,
     "metadata": {},
     "output_type": "execute_result"
    }
   ],
   "source": [
    "SpectralGraphPartitioning(W=W, K=2)"
   ]
  }
 ],
 "metadata": {
  "kernelspec": {
   "display_name": "Python 3",
   "language": "python",
   "name": "python3"
  },
  "language_info": {
   "codemirror_mode": {
    "name": "ipython",
    "version": 3
   },
   "file_extension": ".py",
   "mimetype": "text/x-python",
   "name": "python",
   "nbconvert_exporter": "python",
   "pygments_lexer": "ipython3",
   "version": "3.6.5"
  }
 },
 "nbformat": 4,
 "nbformat_minor": 2
}
