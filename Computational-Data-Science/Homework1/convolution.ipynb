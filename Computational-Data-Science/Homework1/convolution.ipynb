{
 "cells": [
  {
   "cell_type": "markdown",
   "metadata": {
    "deletable": false,
    "editable": false,
    "jbook": {
     "class": "TextCell",
     "current_ui_view": "student",
     "editable": true,
     "original_source": "",
     "readonly": true,
     "section_id": "convolution1d",
     "sources": {
      "student": "<h1>Table of Contents<span class=\"tocSkip\"></span></h1>\n<div class=\"toc\"><ul class=\"toc-item\"><li><span><a href=\"#Problem-description\" data-toc-modified-id=\"Problem-description-1\"><span class=\"toc-item-num\">1&nbsp;&nbsp;</span>Problem description</a></span><ul class=\"toc-item\"><li><span><a href=\"#Programming-exercise\" data-toc-modified-id=\"Programming-exercise-1.1\"><span class=\"toc-item-num\">1.1&nbsp;&nbsp;</span>Programming exercise</a></span></li></ul></li></ul></div>"
     }
    },
    "slideshow": {
     "slide_type": "slide"
    },
    "toc": true
   },
   "source": [
    "<h1>Table of Contents<span class=\"tocSkip\"></span></h1>\n",
    "<div class=\"toc\"><ul class=\"toc-item\"><li><span><a href=\"#Problem-description\" data-toc-modified-id=\"Problem-description-1\"><span class=\"toc-item-num\">1&nbsp;&nbsp;</span>Problem description</a></span><ul class=\"toc-item\"><li><span><a href=\"#Programming-exercise\" data-toc-modified-id=\"Programming-exercise-1.1\"><span class=\"toc-item-num\">1.1&nbsp;&nbsp;</span>Programming exercise</a></span></li></ul></li></ul></div>"
   ]
  },
  {
   "cell_type": "markdown",
   "metadata": {
    "deletable": false,
    "editable": false,
    "jbook": {
     "class": "TextCell",
     "current_ui_view": "student",
     "editable": true,
     "original_source": "",
     "readonly": true,
     "section_id": "convolution1d",
     "sources": {
      "student": "# Problem description"
     }
    },
    "slideshow": {
     "slide_type": "slide"
    }
   },
   "source": [
    "# Problem description"
   ]
  },
  {
   "cell_type": "markdown",
   "metadata": {
    "deletable": false,
    "editable": false,
    "jbook": {
     "class": "TextCell",
     "current_ui_view": "student",
     "editable": true,
     "original_source": "",
     "readonly": true,
     "section_id": "convolution1d",
     "sources": {
      "student": "Discrete time convolution (a DSP term) of an input signal $x[n]$ and a filter $h[n]$ is defined in textbooks as:\n$$\ny = h * x = x * h\n\\implies\ny[m]\n= \\sum_{k=-\\infty}^{\\infty} h[k] x[m-k]\n= \\sum_{n=-\\infty}^{\\infty} x[n] h[m-n]\n,$$\nwhere the \"$*$\" above denotes convolution, not ordinary multiplication.\n\nIn practice we often use finite-length signals and filters, and not all textbooks define this case clearly.\nThe convolution of an input signal $(x[0],\\ldots,x[N-1])$ with a finite impulse response (FIR) filter $(h[0], \\ldots, h[K-1])$ becomes:\n$$\ny[m]\n= \\sum_{k=0}^{\\min(K-1,m)} h[k] x[m-k]\n= \\sum_{n=0}^{\\min(N-1,m)} x[n] h[m-n]\n,\\quad\nm=0,\\ldots,M-1\n.$$\nThis is exactly the type of convolution used in \"convolutional neural networks\" that are a hot topic in machine learning.\n\nDetermine $M$, the length of the (possibly) non-zero part of $y$, in terms of $N$ and $K$.\nWe will use the notation $y,h,x$ to denote the finite vectors of length $M$, $K$, and $N$, respectively.\n\nConvolution is a linear operation, so we can express it as a matrix-vector operation of the form $y = H x$ where $H$ is a matrix that you must determine and implement in this problem.\nWith some recycling of notation, you must implement $H$ such that $y = h * x = H x$.\n\n**Caution:**\nDSP notation uses signals that start at $n=0$, whereas the first element of a vector in `Julia` (and `Matlab`) is indexed by 1.\nThis is something you must get used to handling properly. \n\n**Hint:** It may be helpful to think through carefully the most reasonable size of $H$ first. \nYou should not augment $x$, nor have any rows that are identically zero in $H$.\n\nWrite a function called `convolution` that takes as its input the vectors $h$ and $x$ and returns as output both the matrix $H$ and the column vector $y$ (the convolved signal, implemented without `conv`).\n\n**Hint:** Compare your answer with the builtin convolution function: `Julia`'s `conv` function.\n"
     }
    },
    "slideshow": {
     "slide_type": "slide"
    }
   },
   "source": [
    "Discrete time convolution (a DSP term) of an input signal $x[n]$ and a filter $h[n]$ is defined in textbooks as:\n",
    "$$\n",
    "y = h * x = x * h\n",
    "\\implies\n",
    "y[m]\n",
    "= \\sum_{k=-\\infty}^{\\infty} h[k] x[m-k]\n",
    "= \\sum_{n=-\\infty}^{\\infty} x[n] h[m-n]\n",
    ",$$\n",
    "where the \"$*$\" above denotes convolution, not ordinary multiplication.\n",
    "\n",
    "In practice we often use finite-length signals and filters, and not all textbooks define this case clearly.\n",
    "The convolution of an input signal $(x[0],\\ldots,x[N-1])$ with a finite impulse response (FIR) filter $(h[0], \\ldots, h[K-1])$ becomes:\n",
    "$$\n",
    "y[m]\n",
    "= \\sum_{k=0}^{\\min(K-1,m)} h[k] x[m-k]\n",
    "= \\sum_{n=0}^{\\min(N-1,m)} x[n] h[m-n]\n",
    ",\\quad\n",
    "m=0,\\ldots,M-1\n",
    ".$$\n",
    "This is exactly the type of convolution used in \"convolutional neural networks\" that are a hot topic in machine learning.\n",
    "\n",
    "Determine $M$, the length of the (possibly) non-zero part of $y$, in terms of $N$ and $K$.\n",
    "We will use the notation $y,h,x$ to denote the finite vectors of length $M$, $K$, and $N$, respectively.\n",
    "\n",
    "Convolution is a linear operation, so we can express it as a matrix-vector operation of the form $y = H x$ where $H$ is a matrix that you must determine and implement in this problem.\n",
    "With some recycling of notation, you must implement $H$ such that $y = h * x = H x$.\n",
    "\n",
    "**Caution:**\n",
    "DSP notation uses signals that start at $n=0$, whereas the first element of a vector in `Julia` (and `Matlab`) is indexed by 1.\n",
    "This is something you must get used to handling properly. \n",
    "\n",
    "**Hint:** It may be helpful to think through carefully the most reasonable size of $H$ first. \n",
    "You should not augment $x$, nor have any rows that are identically zero in $H$.\n",
    "\n",
    "Write a function called `convolution` that takes as its input the vectors $h$ and $x$ and returns as output both the matrix $H$ and the column vector $y$ (the convolved signal, implemented without `conv`).\n",
    "\n",
    "**Hint:** Compare your answer with the builtin convolution function: `Julia`'s `conv` function.\n"
   ]
  },
  {
   "cell_type": "markdown",
   "metadata": {
    "deletable": false,
    "editable": false,
    "jbook": {
     "class": "TextCell",
     "current_ui_view": "student",
     "editable": true,
     "original_source": "",
     "readonly": true,
     "section_id": "convolution1d",
     "sources": {
      "student": "##  Programming exercise"
     }
    },
    "slideshow": {
     "slide_type": "slide"
    }
   },
   "source": [
    "##  Programming exercise"
   ]
  },
  {
   "cell_type": "code",
   "execution_count": null,
   "metadata": {
    "deletable": false,
    "jbook": {
     "class": "AGCell",
     "current_ui_view": "student",
     "editable": true,
     "exercise_id": "convolution",
     "original_source": "",
     "section_id": "convolution1d",
     "sources": {
      "student": "function convolution(h, x)\n#\n# Syntax:       H, y = convolution(h, x)\n#\n# Inputs:       h is a vector of length K\n#\n#               x is a vector of length N\n#\n# Outputs:      H is the (N + K - 1) x n convolution matrix defined by h\n#\n#               y is the vector of length (N + K - 1) containing the discrete\n#               convolution of h and x, but *not* computed via conv() calls.\n#\n# Description:  Computes the discrete convolution of the input vectors via\n#               matrix multiplication and returns both the matrix and y\n#\n\n\nH = zeros(size(h,1)+size(x,1)-1,size(x,1))\n\nfor i=1:size(h,1)\n    for j=1:i\n        H[i,j]=h[i-j+1]\n    end\nend\n    \nfor i=size(H,1):-1:size(H,1)-size(h,1)+1\n    for j=size(H,2):-1:size(H,2)-(size(H,1)-i)\n        H[i,j]=h[i-j+1]\n    end\nend\n\n# Compute convolution via matrix multiplication\ny = H * x\n\nreturn H, y\n    \nend\n\nH,y=convolution([1,2,3],[4,5])\nBase.showarray(STDOUT,H,false)\nprint('\\n')\nBase.showarray(STDOUT,y,false)"
     }
    },
    "slideshow": {
     "slide_type": "slide"
    }
   },
   "outputs": [],
   "source": [
    "function convolution(h, x)\n",
    "#\n",
    "# Syntax:       H, y = convolution(h, x)\n",
    "#\n",
    "# Inputs:       h is a vector of length K\n",
    "#\n",
    "#               x is a vector of length N\n",
    "#\n",
    "# Outputs:      H is the (N + K - 1) x n convolution matrix defined by h\n",
    "#\n",
    "#               y is the vector of length (N + K - 1) containing the discrete\n",
    "#               convolution of h and x, but *not* computed via conv() calls.\n",
    "#\n",
    "# Description:  Computes the discrete convolution of the input vectors via\n",
    "#               matrix multiplication and returns both the matrix and y\n",
    "#\n",
    "\n",
    "\n",
    "H = zeros(size(h,1)+size(x,1)-1,size(x,1))\n",
    "\n",
    "for i=1:size(h,1)\n",
    "    for j=1:i\n",
    "        H[i,j]=h[i-j+1]\n",
    "    end\n",
    "end\n",
    "    \n",
    "for i=size(H,1):-1:size(H,1)-size(h,1)+1\n",
    "    for j=size(H,2):-1:size(H,2)-(size(H,1)-i)\n",
    "        H[i,j]=h[i-j+1]\n",
    "    end\n",
    "end\n",
    "\n",
    "# Compute convolution via matrix multiplication\n",
    "y = H * x\n",
    "\n",
    "return H, y\n",
    "    \n",
    "end\n",
    "\n",
    "H,y=convolution([1,2,3],[4,5])\n",
    "Base.showarray(STDOUT,H,false)\n",
    "print('\\n')\n",
    "Base.showarray(STDOUT,y,false)"
   ]
  }
 ],
 "metadata": {
  "jbook": {
   "bookmark_id": "5ba00700a87a04000774260e",
   "jbook_id": "5b9c34a2a3e4ef758151dc66",
   "sections": [
    {
     "name": "convolution1d"
    }
   ]
  },
  "kernelspec": {
   "display_name": "Julia 1.0.0",
   "language": "julia",
   "name": "julia-1.0"
  },
  "language_info": {
   "file_extension": ".jl",
   "mimetype": "application/julia",
   "name": "julia",
   "version": "1.0.0"
  },
  "toc": {
   "base_numbering": 1,
   "nav_menu": {},
   "number_sections": true,
   "sideBar": true,
   "skip_h1_title": false,
   "title_cell": "Table of Contents",
   "title_sidebar": "Contents",
   "toc_cell": true,
   "toc_position": {},
   "toc_section_display": "block",
   "toc_window_display": false
  }
 },
 "nbformat": 4,
 "nbformat_minor": 2
}
